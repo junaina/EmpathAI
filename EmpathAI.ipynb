{
  "nbformat": 4,
  "nbformat_minor": 0,
  "metadata": {
    "colab": {
      "provenance": [],
      "authorship_tag": "ABX9TyOyYyIC5Gf7zZVRggHaEu9m",
      "include_colab_link": true
    },
    "kernelspec": {
      "name": "python3",
      "display_name": "Python 3"
    },
    "language_info": {
      "name": "python"
    }
  },
  "cells": [
    {
      "cell_type": "markdown",
      "metadata": {
        "id": "view-in-github",
        "colab_type": "text"
      },
      "source": [
        "<a href=\"https://colab.research.google.com/github/junaina/EmpathAI/blob/wip/EmpathAI.ipynb\" target=\"_parent\"><img src=\"https://colab.research.google.com/assets/colab-badge.svg\" alt=\"Open In Colab\"/></a>"
      ]
    },
    {
      "cell_type": "code",
      "source": [
        "!git clone https://github.com/junaina/EmpathAI.git\n",
        "%cd EmpathAI"
      ],
      "metadata": {
        "colab": {
          "base_uri": "https://localhost:8080/"
        },
        "id": "CaT0RUTnRP4T",
        "outputId": "d3658561-9f36-4975-affb-a7decb63d3f2"
      },
      "execution_count": 2,
      "outputs": [
        {
          "output_type": "stream",
          "name": "stdout",
          "text": [
            "Cloning into 'EmpathAI'...\n",
            "warning: You appear to have cloned an empty repository.\n",
            "/content/EmpathAI\n"
          ]
        }
      ]
    },
    {
      "cell_type": "code",
      "source": [
        "# set your name/email so commits look right\n",
        "!git config --global user.email \"i222633@nu.edu.pk\"\n",
        "!git config --global user.name  \"junaina\"\n",
        "\n",
        "# point “origin” at the repo over HTTPS, embedding your token\n",
        "!git remote set-url origin https://$GITHUB_TOKEN@github.com/junaina/EmpathAI.git\n",
        "\n",
        "# make sure we’re on main (rename if needed) and push it to create it upstream\n",
        "!git branch -M main\n",
        "!git push -u origin main\n"
      ],
      "metadata": {
        "colab": {
          "base_uri": "https://localhost:8080/"
        },
        "id": "uBjQhaVsRjFg",
        "outputId": "06a3c3b4-45b5-4012-e281-b70a8d90dfbe"
      },
      "execution_count": 14,
      "outputs": [
        {
          "output_type": "stream",
          "name": "stdout",
          "text": [
            "Enumerating objects: 3, done.\n",
            "Counting objects:  33% (1/3)\rCounting objects:  66% (2/3)\rCounting objects: 100% (3/3)\rCounting objects: 100% (3/3), done.\n",
            "Writing objects:  33% (1/3)\rWriting objects:  66% (2/3)\rWriting objects: 100% (3/3)\rWriting objects: 100% (3/3), 217 bytes | 217.00 KiB/s, done.\n",
            "Total 3 (delta 0), reused 0 (delta 0), pack-reused 0\n",
            "To https://github.com/junaina/EmpathAI.git\n",
            " * [new branch]      main -> main\n",
            "Branch 'main' set up to track remote branch 'main' from 'origin'.\n"
          ]
        }
      ]
    },
    {
      "cell_type": "code",
      "source": [
        "!git checkout -b wip\n",
        "!git push -u origin wip"
      ],
      "metadata": {
        "colab": {
          "base_uri": "https://localhost:8080/"
        },
        "id": "UzVtu7XvUMQa",
        "outputId": "e15540b3-56ce-49e3-ecdb-c139765d9565"
      },
      "execution_count": 15,
      "outputs": [
        {
          "output_type": "stream",
          "name": "stdout",
          "text": [
            "Switched to a new branch 'wip'\n",
            "Total 0 (delta 0), reused 0 (delta 0), pack-reused 0\n",
            "remote: \n",
            "remote: Create a pull request for 'wip' on GitHub by visiting:\u001b[K\n",
            "remote:      https://github.com/junaina/EmpathAI/pull/new/wip\u001b[K\n",
            "remote: \n",
            "To https://github.com/junaina/EmpathAI.git\n",
            " * [new branch]      wip -> wip\n",
            "Branch 'wip' set up to track remote branch 'wip' from 'origin'.\n"
          ]
        }
      ]
    },
    {
      "cell_type": "code",
      "source": [
        "# make sure you’ve already set your GITHUB_TOKEN and git config\n",
        "!git clone https://$GITHUB_TOKEN@github.com/junaina/EmpathAI.git\n",
        "%cd EmpathAI"
      ],
      "metadata": {
        "colab": {
          "base_uri": "https://localhost:8080/"
        },
        "id": "RzOoK7NUVzOJ",
        "outputId": "63bce318-5db1-4129-dc73-6446c339c0fe"
      },
      "execution_count": 16,
      "outputs": [
        {
          "output_type": "stream",
          "name": "stdout",
          "text": [
            "Cloning into 'EmpathAI'...\n",
            "remote: Enumerating objects: 3, done.\u001b[K\n",
            "remote: Counting objects: 100% (3/3), done.\u001b[K\n",
            "remote: Total 3 (delta 0), reused 3 (delta 0), pack-reused 0 (from 0)\u001b[K\n",
            "Receiving objects: 100% (3/3), done.\n",
            "/content/EmpathAI/EmpathAI\n"
          ]
        }
      ]
    }
  ]
}