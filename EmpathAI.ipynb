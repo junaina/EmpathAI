{
  "nbformat": 4,
  "nbformat_minor": 0,
  "metadata": {
    "colab": {
      "provenance": [],
      "gpuType": "T4",
      "include_colab_link": true
    },
    "kernelspec": {
      "name": "python3",
      "display_name": "Python 3"
    },
    "language_info": {
      "name": "python"
    },
    "accelerator": "GPU"
  },
  "cells": [
    {
      "cell_type": "markdown",
      "metadata": {
        "id": "view-in-github",
        "colab_type": "text"
      },
      "source": [
        "<a href=\"https://colab.research.google.com/github/junaina/EmpathAI/blob/preview-warda-wip/EmpathAI.ipynb\" target=\"_parent\"><img src=\"https://colab.research.google.com/assets/colab-badge.svg\" alt=\"Open In Colab\"/></a>"
      ]
    },
    {
      "cell_type": "code",
      "source": [
        "!pip install transformers datasets nltk\n",
        "\n",
        "from datasets import load_dataset\n",
        "import pandas as pd\n",
        "\n",
        "dataset=load_dataset(\"go_emotions\")\n",
        "df=dataset[\"train\"].to_pandas()\n",
        "\n",
        "# filter out stuff with no labels\n",
        "df=df[df['labels'].map(len)>0]\n",
        "df[\"label\"]=df[\"labels\"].apply(lambda x:x[0])\n",
        "label_names_full=dataset[\"train\"].features[\"labels\"].feature.names\n",
        "df[\"emotion\"]=df[\"label\"].apply(lambda x:label_names_full[x])\n",
        "df=df[[\"text\",\"label\",\"emotion\"]].rename(columns={\"text\":\"clean_text\"})\n",
        "\n",
        "# mapping into broader 5-class emotions\n",
        "label_mapping={\n",
        "  \"joy\":\"joy\",\"amusement\":\"joy\",\"excitement\":\"joy\",\"gratitude\":\"joy\",\n",
        "  \"relief\":\"joy\",\"pride\":\"joy\",\"optimism\":\"joy\",\"admiration\":\"joy\",\n",
        "  \"sadness\":\"sad\",\"disappointment\":\"sad\",\"grief\":\"sad\",\"remorse\":\"sad\",\n",
        "  \"anger\":\"anger\",\"annoyance\":\"anger\",\"disapproval\":\"anger\",\"embarrassment\":\"anger\",\n",
        "  \"fear\":\"fear\",\"nervousness\":\"fear\",\"confusion\":\"fear\",\n",
        "  \"love\":\"love\",\"caring\":\"love\",\"desire\":\"love\",\n",
        "  \"surprise\":\"surprise\",\"realization\":\"surprise\",\"curiosity\":\"surprise\"\n",
        "}\n",
        "\n",
        "df=df[df[\"emotion\"].isin(label_mapping.keys())]\n",
        "df[\"emotion\"]=df[\"emotion\"].map(label_mapping)\n",
        "\n",
        "from sklearn.preprocessing import LabelEncoder\n",
        "label_encoder=LabelEncoder()\n",
        "df[\"label\"]=label_encoder.fit_transform(df[\"emotion\"])\n",
        "\n",
        "X=list(df[\"clean_text\"])\n",
        "y=df[\"label\"]\n"
      ],
      "metadata": {
        "colab": {
          "base_uri": "https://localhost:8080/"
        },
        "id": "MjprTbZCl_G3",
        "outputId": "22cf97b5-7d0e-4d31-94aa-c9a891d951ba"
      },
      "execution_count": 73,
      "outputs": [
        {
          "output_type": "stream",
          "name": "stdout",
          "text": [
            "Requirement already satisfied: transformers in /usr/local/lib/python3.11/dist-packages (4.51.3)\n",
            "Requirement already satisfied: datasets in /usr/local/lib/python3.11/dist-packages (3.6.0)\n",
            "Requirement already satisfied: nltk in /usr/local/lib/python3.11/dist-packages (3.9.1)\n",
            "Requirement already satisfied: filelock in /usr/local/lib/python3.11/dist-packages (from transformers) (3.18.0)\n",
            "Requirement already satisfied: huggingface-hub<1.0,>=0.30.0 in /usr/local/lib/python3.11/dist-packages (from transformers) (0.30.2)\n",
            "Requirement already satisfied: numpy>=1.17 in /usr/local/lib/python3.11/dist-packages (from transformers) (2.0.2)\n",
            "Requirement already satisfied: packaging>=20.0 in /usr/local/lib/python3.11/dist-packages (from transformers) (24.2)\n",
            "Requirement already satisfied: pyyaml>=5.1 in /usr/local/lib/python3.11/dist-packages (from transformers) (6.0.2)\n",
            "Requirement already satisfied: regex!=2019.12.17 in /usr/local/lib/python3.11/dist-packages (from transformers) (2024.11.6)\n",
            "Requirement already satisfied: requests in /usr/local/lib/python3.11/dist-packages (from transformers) (2.32.3)\n",
            "Requirement already satisfied: tokenizers<0.22,>=0.21 in /usr/local/lib/python3.11/dist-packages (from transformers) (0.21.1)\n",
            "Requirement already satisfied: safetensors>=0.4.3 in /usr/local/lib/python3.11/dist-packages (from transformers) (0.5.3)\n",
            "Requirement already satisfied: tqdm>=4.27 in /usr/local/lib/python3.11/dist-packages (from transformers) (4.67.1)\n",
            "Requirement already satisfied: pyarrow>=15.0.0 in /usr/local/lib/python3.11/dist-packages (from datasets) (18.1.0)\n",
            "Requirement already satisfied: dill<0.3.9,>=0.3.0 in /usr/local/lib/python3.11/dist-packages (from datasets) (0.3.8)\n",
            "Requirement already satisfied: pandas in /usr/local/lib/python3.11/dist-packages (from datasets) (2.2.2)\n",
            "Requirement already satisfied: xxhash in /usr/local/lib/python3.11/dist-packages (from datasets) (3.5.0)\n",
            "Requirement already satisfied: multiprocess<0.70.17 in /usr/local/lib/python3.11/dist-packages (from datasets) (0.70.16)\n",
            "Requirement already satisfied: fsspec<=2025.3.0,>=2023.1.0 in /usr/local/lib/python3.11/dist-packages (from fsspec[http]<=2025.3.0,>=2023.1.0->datasets) (2025.3.0)\n",
            "Requirement already satisfied: click in /usr/local/lib/python3.11/dist-packages (from nltk) (8.1.8)\n",
            "Requirement already satisfied: joblib in /usr/local/lib/python3.11/dist-packages (from nltk) (1.4.2)\n",
            "Requirement already satisfied: aiohttp!=4.0.0a0,!=4.0.0a1 in /usr/local/lib/python3.11/dist-packages (from fsspec[http]<=2025.3.0,>=2023.1.0->datasets) (3.11.15)\n",
            "Requirement already satisfied: typing-extensions>=3.7.4.3 in /usr/local/lib/python3.11/dist-packages (from huggingface-hub<1.0,>=0.30.0->transformers) (4.13.2)\n",
            "Requirement already satisfied: charset-normalizer<4,>=2 in /usr/local/lib/python3.11/dist-packages (from requests->transformers) (3.4.1)\n",
            "Requirement already satisfied: idna<4,>=2.5 in /usr/local/lib/python3.11/dist-packages (from requests->transformers) (3.10)\n",
            "Requirement already satisfied: urllib3<3,>=1.21.1 in /usr/local/lib/python3.11/dist-packages (from requests->transformers) (2.4.0)\n",
            "Requirement already satisfied: certifi>=2017.4.17 in /usr/local/lib/python3.11/dist-packages (from requests->transformers) (2025.4.26)\n",
            "Requirement already satisfied: python-dateutil>=2.8.2 in /usr/local/lib/python3.11/dist-packages (from pandas->datasets) (2.9.0.post0)\n",
            "Requirement already satisfied: pytz>=2020.1 in /usr/local/lib/python3.11/dist-packages (from pandas->datasets) (2025.2)\n",
            "Requirement already satisfied: tzdata>=2022.7 in /usr/local/lib/python3.11/dist-packages (from pandas->datasets) (2025.2)\n",
            "Requirement already satisfied: aiohappyeyeballs>=2.3.0 in /usr/local/lib/python3.11/dist-packages (from aiohttp!=4.0.0a0,!=4.0.0a1->fsspec[http]<=2025.3.0,>=2023.1.0->datasets) (2.6.1)\n",
            "Requirement already satisfied: aiosignal>=1.1.2 in /usr/local/lib/python3.11/dist-packages (from aiohttp!=4.0.0a0,!=4.0.0a1->fsspec[http]<=2025.3.0,>=2023.1.0->datasets) (1.3.2)\n",
            "Requirement already satisfied: attrs>=17.3.0 in /usr/local/lib/python3.11/dist-packages (from aiohttp!=4.0.0a0,!=4.0.0a1->fsspec[http]<=2025.3.0,>=2023.1.0->datasets) (25.3.0)\n",
            "Requirement already satisfied: frozenlist>=1.1.1 in /usr/local/lib/python3.11/dist-packages (from aiohttp!=4.0.0a0,!=4.0.0a1->fsspec[http]<=2025.3.0,>=2023.1.0->datasets) (1.6.0)\n",
            "Requirement already satisfied: multidict<7.0,>=4.5 in /usr/local/lib/python3.11/dist-packages (from aiohttp!=4.0.0a0,!=4.0.0a1->fsspec[http]<=2025.3.0,>=2023.1.0->datasets) (6.4.3)\n",
            "Requirement already satisfied: propcache>=0.2.0 in /usr/local/lib/python3.11/dist-packages (from aiohttp!=4.0.0a0,!=4.0.0a1->fsspec[http]<=2025.3.0,>=2023.1.0->datasets) (0.3.1)\n",
            "Requirement already satisfied: yarl<2.0,>=1.17.0 in /usr/local/lib/python3.11/dist-packages (from aiohttp!=4.0.0a0,!=4.0.0a1->fsspec[http]<=2025.3.0,>=2023.1.0->datasets) (1.20.0)\n",
            "Requirement already satisfied: six>=1.5 in /usr/local/lib/python3.11/dist-packages (from python-dateutil>=2.8.2->pandas->datasets) (1.17.0)\n"
          ]
        }
      ]
    },
    {
      "cell_type": "code",
      "source": [
        "from transformers import BertTokenizer, TFBertForSequenceClassification, create_optimizer\n",
        "import tensorflow as tf\n",
        "import json\n",
        "\n",
        "tokenizer=BertTokenizer.from_pretrained('bert-base-uncased')\n",
        "tokens=tokenizer(X,truncation=True,padding=True,return_tensors='tf',max_length=128)\n",
        "\n",
        "num_classes=len(label_encoder.classes_)\n",
        "\n",
        "model=TFBertForSequenceClassification.from_pretrained('bert-base-uncased',num_labels=num_classes)\n",
        "\n",
        "batch_size=32\n",
        "epochs=3\n",
        "steps_per_epoch=len(X)//batch_size\n",
        "num_train_steps=steps_per_epoch*epochs\n",
        "num_warmup_steps=int(0.1*num_train_steps)\n",
        "\n",
        "optimizer,_=create_optimizer(\n",
        "  init_lr=2e-5,\n",
        "  num_warmup_steps=num_warmup_steps,\n",
        "  num_train_steps=num_train_steps\n",
        ")\n",
        "\n",
        "model.compile(\n",
        "  optimizer=optimizer,\n",
        "  loss=tf.keras.losses.SparseCategoricalCrossentropy(from_logits=True),\n",
        "  metrics=['accuracy']\n",
        ")\n",
        "\n",
        "# let's goooo\n",
        "history=model.fit(\n",
        "  x=dict(tokens),\n",
        "  y=y,\n",
        "  epochs=3,\n",
        "  batch_size=16,\n",
        "  validation_split=0.1\n",
        ")\n",
        "\n",
        "# dump everything so we can load it later\n",
        "model.save_pretrained(\"bert_emotion_model\")\n",
        "tokenizer.save_pretrained(\"bert_emotion_model\")\n",
        "\n",
        "with open(\"bert_emotion_model/label_names.json\",\"w\") as f:\n",
        "  json.dump(list(label_encoder.classes_),f)\n",
        "\n",
        "import shutil\n",
        "shutil.make_archive(\"bert_emotion_model\",'zip',\"bert_emotion_model\")\n",
        "\n",
        "from google.colab import files\n",
        "files.download(\"bert_emotion_model.zip\")\n"
      ],
      "metadata": {
        "colab": {
          "base_uri": "https://localhost:8080/"
        },
        "id": "imZcljgvmBZ9",
        "outputId": "4f58d674-9670-446e-b276-e5f7fc10a25f"
      },
      "execution_count": null,
      "outputs": [
        {
          "output_type": "stream",
          "name": "stderr",
          "text": [
            "All PyTorch model weights were used when initializing TFBertForSequenceClassification.\n",
            "\n",
            "Some weights or buffers of the TF 2.0 model TFBertForSequenceClassification were not initialized from the PyTorch model and are newly initialized: ['classifier.weight', 'classifier.bias']\n",
            "You should probably TRAIN this model on a down-stream task to be able to use it for predictions and inference.\n"
          ]
        },
        {
          "output_type": "stream",
          "name": "stdout",
          "text": [
            "Epoch 1/3\n",
            "  24/1542 [..............................] - ETA: 6:59:13 - loss: 1.7814 - accuracy: 0.1224"
          ]
        }
      ]
    },
    {
      "cell_type": "code",
      "source": [
        "import json\n",
        "from transformers import TFBertForSequenceClassification, BertTokenizer\n",
        "import tensorflow as tf\n",
        "import pandas as pd\n",
        "from nltk.tokenize import sent_tokenize\n",
        "from collections import Counter\n",
        "from datetime import datetime\n",
        "import random\n",
        "import nltk\n",
        "\n",
        "nltk.download('punkt')\n",
        "\n",
        "# Load model & tokenizer\n",
        "model = TFBertForSequenceClassification.from_pretrained(\"./bert_emotion_model\")\n",
        "tokenizer = BertTokenizer.from_pretrained(\"./bert_emotion_model\")\n",
        "\n",
        "# Load label names\n",
        "with open(\"bert_emotion_model/label_names.json\", \"r\") as f:\n",
        "    label_names = json.load(f)\n",
        "\n",
        "# Prediction function\n",
        "def predict_emotion(text):\n",
        "    inputs = tokenizer(text, return_tensors=\"tf\", truncation=True, padding=True, max_length=128)\n",
        "    outputs = model(inputs)\n",
        "    predicted_class = tf.argmax(outputs.logits, axis=1).numpy()[0]\n",
        "    emotion = label_encoder.inverse_transform([predicted_class])[0]\n",
        "    confidence = tf.nn.softmax(outputs.logits, axis=1)[0][predicted_class].numpy()\n",
        "    return emotion, round(confidence * 100, 2)\n"
      ],
      "metadata": {
        "colab": {
          "base_uri": "https://localhost:8080/"
        },
        "id": "gjJPtgqDmD8A",
        "outputId": "0cde7e82-c65b-41b6-d3e5-ceaf74dcd3c2"
      },
      "execution_count": 62,
      "outputs": [
        {
          "output_type": "stream",
          "name": "stderr",
          "text": [
            "[nltk_data] Downloading package punkt to /root/nltk_data...\n",
            "[nltk_data]   Package punkt is already up-to-date!\n",
            "Some layers from the model checkpoint at ./bert_emotion_model were not used when initializing TFBertForSequenceClassification: ['dropout_75']\n",
            "- This IS expected if you are initializing TFBertForSequenceClassification from the checkpoint of a model trained on another task or with another architecture (e.g. initializing a BertForSequenceClassification model from a BertForPreTraining model).\n",
            "- This IS NOT expected if you are initializing TFBertForSequenceClassification from the checkpoint of a model that you expect to be exactly identical (initializing a BertForSequenceClassification model from a BertForSequenceClassification model).\n",
            "All the layers of TFBertForSequenceClassification were initialized from the model checkpoint at ./bert_emotion_model.\n",
            "If your task is similar to the task the model of the checkpoint was trained on, you can already use TFBertForSequenceClassification for predictions without further training.\n"
          ]
        }
      ]
    },
    {
      "cell_type": "code",
      "source": [
        "# a lil pocket of good vibes\n",
        "motivational_responses={\n",
        "  \"joy\":[\n",
        "    \"Embrace the joy—your light is infectious!\",\n",
        "    \"Let your smile fuel someone else's day.\",\n",
        "    \"Happiness looks good on you—don’t let it go.\",\n",
        "    \"You’re in a beautiful moment—savor it.\",\n",
        "    \"Joy is contagious—spread it freely.\",\n",
        "    \"You deserve every bit of this happiness.\",\n",
        "    \"The world feels lighter when you smile.\",\n",
        "    \"Anchor yourself in this feeling—it’s real.\"\n",
        "  ],\n",
        "  \"anger\":[\n",
        "    \"You have the right to feel this—breathe.\",\n",
        "    \"You can rise above this.\",\n",
        "    \"Let your fire fuel growth, not destruction.\",\n",
        "    \"Channel that energy into something meaningful.\",\n",
        "    \"Take a moment. You’re allowed to feel upset.\",\n",
        "    \"You’re not defined by this anger.\",\n",
        "    \"Even the storm has purpose—just don't let it drown you.\",\n",
        "    \"Sometimes silence is the most powerful response.\"\n",
        "  ],\n",
        "  \"fear\":[\n",
        "    \"Courage means acting even when afraid.\",\n",
        "    \"You are stronger than your fears.\",\n",
        "    \"One step at a time—you’re doing better than you think.\",\n",
        "    \"Fear is part of growth—lean into it.\",\n",
        "    \"You’ve survived tough moments before. You will again.\",\n",
        "    \"This feeling will pass—breathe through it.\",\n",
        "    \"You’re not alone in this.\",\n",
        "    \"Trust yourself—you’ve got this.\"\n",
        "  ],\n",
        "  \"love\":[\n",
        "    \"Your love makes the world better.\",\n",
        "    \"You’re deeply valued and appreciated.\",\n",
        "    \"The kindness you give comes back tenfold.\",\n",
        "    \"Love is your strength—don’t hide it.\",\n",
        "    \"You carry warmth that others feel even in silence.\",\n",
        "    \"You are love in motion—keep going.\",\n",
        "    \"Stay open—it’s your superpower.\",\n",
        "    \"You're someone’s reason to believe in good.\"\n",
        "  ],\n",
        "  \"surprise\":[\n",
        "    \"Sometimes surprises lead to new beginnings.\",\n",
        "    \"Let curiosity guide your next step.\",\n",
        "    \"Life’s unexpected turns often carry hidden gifts.\",\n",
        "    \"Stay open—wonder lives in the unknown.\",\n",
        "    \"Not all surprises are setbacks—some are setups.\",\n",
        "    \"Trust that the shift is leading somewhere meaningful.\",\n",
        "    \"You’re writing a story even you don’t know the end of yet.\",\n",
        "    \"Let awe be your compass when the road bends.\"\n",
        "  ]\n",
        "}\n",
        "\n",
        "def get_motivational_response(emotion):\n",
        "  return random.choice(\n",
        "    motivational_responses.get(emotion.lower(),\n",
        "    [\"I'm here for you, no matter what you're feeling.\"])\n",
        "  )\n"
      ],
      "metadata": {
        "id": "6cstSGGpmGfA"
      },
      "execution_count": 63,
      "outputs": []
    },
    {
      "cell_type": "code",
      "source": [
        "# mood journal (only if not already hangin' around)\n",
        "if 'mood_log' not in globals():\n",
        "  mood_log = pd.DataFrame(columns=[\n",
        "    \"Timestamp\",\n",
        "    \"User Input\",\n",
        "    \"Predicted Emotion\",\n",
        "    \"Motivational Response\"\n",
        "  ])\n",
        "\n",
        "# save but only when *you* say so\n",
        "def download_mood_log(filename=\"mood_tracker_log.csv\"):\n",
        "  if not mood_log.empty:\n",
        "    mood_log.to_csv(filename, index=False)\n",
        "    from google.colab import files\n",
        "    files.download(filename)\n",
        "\n",
        "# main thing: break down a paragraph, feel it, respond to it\n",
        "def analyze_paragraph(paragraph):\n",
        "  sentences = sent_tokenize(paragraph)\n",
        "  results = []\n",
        "\n",
        "  print(\"🔍 Sentence-wise predictions:\\n\")\n",
        "\n",
        "  for sent in sentences:\n",
        "    emotion, confidence = predict_emotion(sent)\n",
        "    results.append(emotion)\n",
        "    print(f\"• {sent.strip()} → {emotion} ({confidence:.2f}%)\")\n",
        "\n",
        "  counts = Counter(results)\n",
        "  top_count = counts.most_common(1)[0][1]\n",
        "  tied = [e for e, c in counts.items() if c == top_count]\n",
        "  dominant = tied[0]  # pick the top one even if tie\n",
        "\n",
        "  print(f\"\\n Dominant emotion: {dominant}\")\n",
        "  response = get_motivational_response(dominant)\n",
        "  print(\"💬 Empath says:\", response)\n",
        "\n",
        "  timestamp = datetime.now().strftime('%Y-%m-%d %H:%M:%S')\n",
        "\n",
        "  # record\n",
        "  global mood_log\n",
        "  mood_log = pd.concat([mood_log, pd.DataFrame([{\n",
        "    \"Timestamp\": timestamp,\n",
        "    \"User Input\": paragraph,\n",
        "    \"Predicted Emotion\": dominant,\n",
        "    \"Motivational Response\": response\n",
        "  }])], ignore_index=True)"
      ],
      "metadata": {
        "colab": {
          "base_uri": "https://localhost:8080/",
          "height": 109
        },
        "id": "j1CdRJksmJVQ",
        "outputId": "dfb38e5d-8099-40da-9767-42dc2833aa05"
      },
      "execution_count": 70,
      "outputs": [
        {
          "output_type": "error",
          "ename": "IndentationError",
          "evalue": "unindent does not match any outer indentation level (<tokenize>, line 38)",
          "traceback": [
            "\u001b[0;36m  File \u001b[0;32m\"<tokenize>\"\u001b[0;36m, line \u001b[0;32m38\u001b[0m\n\u001b[0;31m    save_log()\u001b[0m\n\u001b[0m    ^\u001b[0m\n\u001b[0;31mIndentationError\u001b[0m\u001b[0;31m:\u001b[0m unindent does not match any outer indentation level\n"
          ]
        }
      ]
    },
    {
      "cell_type": "code",
      "source": [
        "download_mood_log()\n"
      ],
      "metadata": {
        "id": "sB9LHFAan--8"
      },
      "execution_count": null,
      "outputs": []
    },
    {
      "cell_type": "code",
      "source": [
        "paragraphs = [\n",
        "    \"Lately, I wake up feeling heavy, like there's a cloud hovering over me. I can't explain why, but I feel so empty.\",\n",
        "    \"Every little thing makes me anxious. My hands shake before I even open my emails. I don't know how long I can keep this up.\",\n",
        "    \"The silence in my room is too loud these days. I used to enjoy being alone, but now it just feels lonely and sad.\",\n",
        "    \"I feel like a burden to everyone around me. I smile in front of them, but inside I'm falling apart.\",\n",
        "]\n",
        "paragraphs += [\n",
        "    \"Why do people never listen until you're yelling? I'm sick of being calm while others walk all over me.\",\n",
        "    \"Everything around me feels unfair. I'm trying so hard, but no one seems to care or acknowledge it.\",\n",
        "]\n",
        "paragraphs += [\n",
        "    \"I watched the sunset today, and for a moment, all my worries disappeared. It was peaceful, beautiful, and grounding.\",\n",
        "    \"My best friend surprised me with my favorite coffee today. I don’t know what I’d do without them. My heart feels full.\",\n",
        "    \"There’s something about dancing alone in your room that makes you feel so alive. I felt free today.\",\n",
        "]\n",
        "paragraphs += [\n",
        "    \"I thought today would be ordinary, but out of nowhere, an old friend called and we talked for hours. Totally unexpected and comforting.\",\n",
        "]\n",
        "for p in paragraphs:\n",
        "    analyze_paragraph(p)\n"
      ],
      "metadata": {
        "colab": {
          "base_uri": "https://localhost:8080/",
          "height": 1000
        },
        "id": "bwQ_JXiAmLXN",
        "outputId": "54e2ed0f-4c7b-4376-88fc-999d4ec1a2ad"
      },
      "execution_count": 71,
      "outputs": [
        {
          "output_type": "stream",
          "name": "stdout",
          "text": [
            "🔍 Sentence-wise predictions:\n",
            "\n",
            "• Lately, I wake up feeling heavy, like there's a cloud hovering over me. → sad (70.34%)\n",
            "• I can't explain why, but I feel so empty. → sad (76.86%)\n",
            "\n",
            " Dominant emotion: sad\n",
            "💬 Empath says: I'm here for you, no matter what you're feeling.\n"
          ]
        },
        {
          "output_type": "display_data",
          "data": {
            "text/plain": [
              "<IPython.core.display.Javascript object>"
            ],
            "application/javascript": [
              "\n",
              "    async function download(id, filename, size) {\n",
              "      if (!google.colab.kernel.accessAllowed) {\n",
              "        return;\n",
              "      }\n",
              "      const div = document.createElement('div');\n",
              "      const label = document.createElement('label');\n",
              "      label.textContent = `Downloading \"${filename}\": `;\n",
              "      div.appendChild(label);\n",
              "      const progress = document.createElement('progress');\n",
              "      progress.max = size;\n",
              "      div.appendChild(progress);\n",
              "      document.body.appendChild(div);\n",
              "\n",
              "      const buffers = [];\n",
              "      let downloaded = 0;\n",
              "\n",
              "      const channel = await google.colab.kernel.comms.open(id);\n",
              "      // Send a message to notify the kernel that we're ready.\n",
              "      channel.send({})\n",
              "\n",
              "      for await (const message of channel.messages) {\n",
              "        // Send a message to notify the kernel that we're ready.\n",
              "        channel.send({})\n",
              "        if (message.buffers) {\n",
              "          for (const buffer of message.buffers) {\n",
              "            buffers.push(buffer);\n",
              "            downloaded += buffer.byteLength;\n",
              "            progress.value = downloaded;\n",
              "          }\n",
              "        }\n",
              "      }\n",
              "      const blob = new Blob(buffers, {type: 'application/binary'});\n",
              "      const a = document.createElement('a');\n",
              "      a.href = window.URL.createObjectURL(blob);\n",
              "      a.download = filename;\n",
              "      div.appendChild(a);\n",
              "      a.click();\n",
              "      div.remove();\n",
              "    }\n",
              "  "
            ]
          },
          "metadata": {}
        },
        {
          "output_type": "display_data",
          "data": {
            "text/plain": [
              "<IPython.core.display.Javascript object>"
            ],
            "application/javascript": [
              "download(\"download_47894fb1-8010-48a0-b2b2-fde730200a8a\", \"mood_tracker_log.csv\", 6283)"
            ]
          },
          "metadata": {}
        },
        {
          "output_type": "stream",
          "name": "stdout",
          "text": [
            "🔍 Sentence-wise predictions:\n",
            "\n",
            "• Every little thing makes me anxious. → fear (79.98%)\n",
            "• My hands shake before I even open my emails. → fear (57.34%)\n",
            "• I don't know how long I can keep this up. → fear (89.29%)\n",
            "\n",
            " Dominant emotion: fear\n",
            "💬 Empath says: Courage means acting even when afraid.\n"
          ]
        },
        {
          "output_type": "display_data",
          "data": {
            "text/plain": [
              "<IPython.core.display.Javascript object>"
            ],
            "application/javascript": [
              "\n",
              "    async function download(id, filename, size) {\n",
              "      if (!google.colab.kernel.accessAllowed) {\n",
              "        return;\n",
              "      }\n",
              "      const div = document.createElement('div');\n",
              "      const label = document.createElement('label');\n",
              "      label.textContent = `Downloading \"${filename}\": `;\n",
              "      div.appendChild(label);\n",
              "      const progress = document.createElement('progress');\n",
              "      progress.max = size;\n",
              "      div.appendChild(progress);\n",
              "      document.body.appendChild(div);\n",
              "\n",
              "      const buffers = [];\n",
              "      let downloaded = 0;\n",
              "\n",
              "      const channel = await google.colab.kernel.comms.open(id);\n",
              "      // Send a message to notify the kernel that we're ready.\n",
              "      channel.send({})\n",
              "\n",
              "      for await (const message of channel.messages) {\n",
              "        // Send a message to notify the kernel that we're ready.\n",
              "        channel.send({})\n",
              "        if (message.buffers) {\n",
              "          for (const buffer of message.buffers) {\n",
              "            buffers.push(buffer);\n",
              "            downloaded += buffer.byteLength;\n",
              "            progress.value = downloaded;\n",
              "          }\n",
              "        }\n",
              "      }\n",
              "      const blob = new Blob(buffers, {type: 'application/binary'});\n",
              "      const a = document.createElement('a');\n",
              "      a.href = window.URL.createObjectURL(blob);\n",
              "      a.download = filename;\n",
              "      div.appendChild(a);\n",
              "      a.click();\n",
              "      div.remove();\n",
              "    }\n",
              "  "
            ]
          },
          "metadata": {}
        },
        {
          "output_type": "display_data",
          "data": {
            "text/plain": [
              "<IPython.core.display.Javascript object>"
            ],
            "application/javascript": [
              "download(\"download_c1a4d163-08bf-4c41-ba0f-d23b813a9495\", \"mood_tracker_log.csv\", 6471)"
            ]
          },
          "metadata": {}
        },
        {
          "output_type": "stream",
          "name": "stdout",
          "text": [
            "🔍 Sentence-wise predictions:\n",
            "\n",
            "• The silence in my room is too loud these days. → anger (40.12%)\n",
            "• I used to enjoy being alone, but now it just feels lonely and sad. → sad (91.85%)\n",
            "\n",
            " Dominant emotion: anger\n",
            "💬 Empath says: Channel that energy into something meaningful.\n"
          ]
        },
        {
          "output_type": "display_data",
          "data": {
            "text/plain": [
              "<IPython.core.display.Javascript object>"
            ],
            "application/javascript": [
              "\n",
              "    async function download(id, filename, size) {\n",
              "      if (!google.colab.kernel.accessAllowed) {\n",
              "        return;\n",
              "      }\n",
              "      const div = document.createElement('div');\n",
              "      const label = document.createElement('label');\n",
              "      label.textContent = `Downloading \"${filename}\": `;\n",
              "      div.appendChild(label);\n",
              "      const progress = document.createElement('progress');\n",
              "      progress.max = size;\n",
              "      div.appendChild(progress);\n",
              "      document.body.appendChild(div);\n",
              "\n",
              "      const buffers = [];\n",
              "      let downloaded = 0;\n",
              "\n",
              "      const channel = await google.colab.kernel.comms.open(id);\n",
              "      // Send a message to notify the kernel that we're ready.\n",
              "      channel.send({})\n",
              "\n",
              "      for await (const message of channel.messages) {\n",
              "        // Send a message to notify the kernel that we're ready.\n",
              "        channel.send({})\n",
              "        if (message.buffers) {\n",
              "          for (const buffer of message.buffers) {\n",
              "            buffers.push(buffer);\n",
              "            downloaded += buffer.byteLength;\n",
              "            progress.value = downloaded;\n",
              "          }\n",
              "        }\n",
              "      }\n",
              "      const blob = new Blob(buffers, {type: 'application/binary'});\n",
              "      const a = document.createElement('a');\n",
              "      a.href = window.URL.createObjectURL(blob);\n",
              "      a.download = filename;\n",
              "      div.appendChild(a);\n",
              "      a.click();\n",
              "      div.remove();\n",
              "    }\n",
              "  "
            ]
          },
          "metadata": {}
        },
        {
          "output_type": "display_data",
          "data": {
            "text/plain": [
              "<IPython.core.display.Javascript object>"
            ],
            "application/javascript": [
              "download(\"download_186f26ed-4949-43ae-bb71-2f8d615ed013\", \"mood_tracker_log.csv\", 6660)"
            ]
          },
          "metadata": {}
        },
        {
          "output_type": "stream",
          "name": "stdout",
          "text": [
            "🔍 Sentence-wise predictions:\n",
            "\n",
            "• I feel like a burden to everyone around me. → sad (92.77%)\n",
            "• I smile in front of them, but inside I'm falling apart. → sad (90.14%)\n",
            "\n",
            " Dominant emotion: sad\n",
            "💬 Empath says: I'm here for you, no matter what you're feeling.\n"
          ]
        },
        {
          "output_type": "display_data",
          "data": {
            "text/plain": [
              "<IPython.core.display.Javascript object>"
            ],
            "application/javascript": [
              "\n",
              "    async function download(id, filename, size) {\n",
              "      if (!google.colab.kernel.accessAllowed) {\n",
              "        return;\n",
              "      }\n",
              "      const div = document.createElement('div');\n",
              "      const label = document.createElement('label');\n",
              "      label.textContent = `Downloading \"${filename}\": `;\n",
              "      div.appendChild(label);\n",
              "      const progress = document.createElement('progress');\n",
              "      progress.max = size;\n",
              "      div.appendChild(progress);\n",
              "      document.body.appendChild(div);\n",
              "\n",
              "      const buffers = [];\n",
              "      let downloaded = 0;\n",
              "\n",
              "      const channel = await google.colab.kernel.comms.open(id);\n",
              "      // Send a message to notify the kernel that we're ready.\n",
              "      channel.send({})\n",
              "\n",
              "      for await (const message of channel.messages) {\n",
              "        // Send a message to notify the kernel that we're ready.\n",
              "        channel.send({})\n",
              "        if (message.buffers) {\n",
              "          for (const buffer of message.buffers) {\n",
              "            buffers.push(buffer);\n",
              "            downloaded += buffer.byteLength;\n",
              "            progress.value = downloaded;\n",
              "          }\n",
              "        }\n",
              "      }\n",
              "      const blob = new Blob(buffers, {type: 'application/binary'});\n",
              "      const a = document.createElement('a');\n",
              "      a.href = window.URL.createObjectURL(blob);\n",
              "      a.download = filename;\n",
              "      div.appendChild(a);\n",
              "      a.click();\n",
              "      div.remove();\n",
              "    }\n",
              "  "
            ]
          },
          "metadata": {}
        },
        {
          "output_type": "display_data",
          "data": {
            "text/plain": [
              "<IPython.core.display.Javascript object>"
            ],
            "application/javascript": [
              "download(\"download_b78a0f67-7683-49c1-9968-c521674a5182\", \"mood_tracker_log.csv\", 6837)"
            ]
          },
          "metadata": {}
        },
        {
          "output_type": "stream",
          "name": "stdout",
          "text": [
            "🔍 Sentence-wise predictions:\n",
            "\n",
            "• Why do people never listen until you're yelling? → surprise (46.96%)\n",
            "• I'm sick of being calm while others walk all over me. → anger (74.65%)\n",
            "\n",
            " Dominant emotion: surprise\n",
            "💬 Empath says: Life’s unexpected turns often carry hidden gifts.\n"
          ]
        },
        {
          "output_type": "display_data",
          "data": {
            "text/plain": [
              "<IPython.core.display.Javascript object>"
            ],
            "application/javascript": [
              "\n",
              "    async function download(id, filename, size) {\n",
              "      if (!google.colab.kernel.accessAllowed) {\n",
              "        return;\n",
              "      }\n",
              "      const div = document.createElement('div');\n",
              "      const label = document.createElement('label');\n",
              "      label.textContent = `Downloading \"${filename}\": `;\n",
              "      div.appendChild(label);\n",
              "      const progress = document.createElement('progress');\n",
              "      progress.max = size;\n",
              "      div.appendChild(progress);\n",
              "      document.body.appendChild(div);\n",
              "\n",
              "      const buffers = [];\n",
              "      let downloaded = 0;\n",
              "\n",
              "      const channel = await google.colab.kernel.comms.open(id);\n",
              "      // Send a message to notify the kernel that we're ready.\n",
              "      channel.send({})\n",
              "\n",
              "      for await (const message of channel.messages) {\n",
              "        // Send a message to notify the kernel that we're ready.\n",
              "        channel.send({})\n",
              "        if (message.buffers) {\n",
              "          for (const buffer of message.buffers) {\n",
              "            buffers.push(buffer);\n",
              "            downloaded += buffer.byteLength;\n",
              "            progress.value = downloaded;\n",
              "          }\n",
              "        }\n",
              "      }\n",
              "      const blob = new Blob(buffers, {type: 'application/binary'});\n",
              "      const a = document.createElement('a');\n",
              "      a.href = window.URL.createObjectURL(blob);\n",
              "      a.download = filename;\n",
              "      div.appendChild(a);\n",
              "      a.click();\n",
              "      div.remove();\n",
              "    }\n",
              "  "
            ]
          },
          "metadata": {}
        },
        {
          "output_type": "display_data",
          "data": {
            "text/plain": [
              "<IPython.core.display.Javascript object>"
            ],
            "application/javascript": [
              "download(\"download_28bf614c-ec72-4f2e-8220-e8d2c37629bc\", \"mood_tracker_log.csv\", 7021)"
            ]
          },
          "metadata": {}
        },
        {
          "output_type": "stream",
          "name": "stdout",
          "text": [
            "🔍 Sentence-wise predictions:\n",
            "\n",
            "• Everything around me feels unfair. → anger (88.77%)\n",
            "• I'm trying so hard, but no one seems to care or acknowledge it. → sad (66.33%)\n",
            "\n",
            " Dominant emotion: anger\n",
            "💬 Empath says: Sometimes silence is the most powerful response.\n"
          ]
        },
        {
          "output_type": "display_data",
          "data": {
            "text/plain": [
              "<IPython.core.display.Javascript object>"
            ],
            "application/javascript": [
              "\n",
              "    async function download(id, filename, size) {\n",
              "      if (!google.colab.kernel.accessAllowed) {\n",
              "        return;\n",
              "      }\n",
              "      const div = document.createElement('div');\n",
              "      const label = document.createElement('label');\n",
              "      label.textContent = `Downloading \"${filename}\": `;\n",
              "      div.appendChild(label);\n",
              "      const progress = document.createElement('progress');\n",
              "      progress.max = size;\n",
              "      div.appendChild(progress);\n",
              "      document.body.appendChild(div);\n",
              "\n",
              "      const buffers = [];\n",
              "      let downloaded = 0;\n",
              "\n",
              "      const channel = await google.colab.kernel.comms.open(id);\n",
              "      // Send a message to notify the kernel that we're ready.\n",
              "      channel.send({})\n",
              "\n",
              "      for await (const message of channel.messages) {\n",
              "        // Send a message to notify the kernel that we're ready.\n",
              "        channel.send({})\n",
              "        if (message.buffers) {\n",
              "          for (const buffer of message.buffers) {\n",
              "            buffers.push(buffer);\n",
              "            downloaded += buffer.byteLength;\n",
              "            progress.value = downloaded;\n",
              "          }\n",
              "        }\n",
              "      }\n",
              "      const blob = new Blob(buffers, {type: 'application/binary'});\n",
              "      const a = document.createElement('a');\n",
              "      a.href = window.URL.createObjectURL(blob);\n",
              "      a.download = filename;\n",
              "      div.appendChild(a);\n",
              "      a.click();\n",
              "      div.remove();\n",
              "    }\n",
              "  "
            ]
          },
          "metadata": {}
        },
        {
          "output_type": "display_data",
          "data": {
            "text/plain": [
              "<IPython.core.display.Javascript object>"
            ],
            "application/javascript": [
              "download(\"download_41d2d479-7e3b-4c8c-b5e3-40788d6c0244\", \"mood_tracker_log.csv\", 7197)"
            ]
          },
          "metadata": {}
        },
        {
          "output_type": "stream",
          "name": "stdout",
          "text": [
            "🔍 Sentence-wise predictions:\n",
            "\n",
            "• I watched the sunset today, and for a moment, all my worries disappeared. → sad (29.27%)\n",
            "• It was peaceful, beautiful, and grounding. → joy (97.84%)\n",
            "\n",
            " Dominant emotion: sad\n",
            "💬 Empath says: I'm here for you, no matter what you're feeling.\n"
          ]
        },
        {
          "output_type": "display_data",
          "data": {
            "text/plain": [
              "<IPython.core.display.Javascript object>"
            ],
            "application/javascript": [
              "\n",
              "    async function download(id, filename, size) {\n",
              "      if (!google.colab.kernel.accessAllowed) {\n",
              "        return;\n",
              "      }\n",
              "      const div = document.createElement('div');\n",
              "      const label = document.createElement('label');\n",
              "      label.textContent = `Downloading \"${filename}\": `;\n",
              "      div.appendChild(label);\n",
              "      const progress = document.createElement('progress');\n",
              "      progress.max = size;\n",
              "      div.appendChild(progress);\n",
              "      document.body.appendChild(div);\n",
              "\n",
              "      const buffers = [];\n",
              "      let downloaded = 0;\n",
              "\n",
              "      const channel = await google.colab.kernel.comms.open(id);\n",
              "      // Send a message to notify the kernel that we're ready.\n",
              "      channel.send({})\n",
              "\n",
              "      for await (const message of channel.messages) {\n",
              "        // Send a message to notify the kernel that we're ready.\n",
              "        channel.send({})\n",
              "        if (message.buffers) {\n",
              "          for (const buffer of message.buffers) {\n",
              "            buffers.push(buffer);\n",
              "            downloaded += buffer.byteLength;\n",
              "            progress.value = downloaded;\n",
              "          }\n",
              "        }\n",
              "      }\n",
              "      const blob = new Blob(buffers, {type: 'application/binary'});\n",
              "      const a = document.createElement('a');\n",
              "      a.href = window.URL.createObjectURL(blob);\n",
              "      a.download = filename;\n",
              "      div.appendChild(a);\n",
              "      a.click();\n",
              "      div.remove();\n",
              "    }\n",
              "  "
            ]
          },
          "metadata": {}
        },
        {
          "output_type": "display_data",
          "data": {
            "text/plain": [
              "<IPython.core.display.Javascript object>"
            ],
            "application/javascript": [
              "download(\"download_795bd599-ee09-4f4a-941e-26d52ff7b678\", \"mood_tracker_log.csv\", 7391)"
            ]
          },
          "metadata": {}
        },
        {
          "output_type": "stream",
          "name": "stdout",
          "text": [
            "🔍 Sentence-wise predictions:\n",
            "\n",
            "• My best friend surprised me with my favorite coffee today. → surprise (68.77%)\n",
            "• I don’t know what I’d do without them. → fear (88.85%)\n",
            "• My heart feels full. → joy (79.55%)\n",
            "\n",
            " Dominant emotion: surprise\n",
            "💬 Empath says: Not all surprises are setbacks—some are setups.\n"
          ]
        },
        {
          "output_type": "display_data",
          "data": {
            "text/plain": [
              "<IPython.core.display.Javascript object>"
            ],
            "application/javascript": [
              "\n",
              "    async function download(id, filename, size) {\n",
              "      if (!google.colab.kernel.accessAllowed) {\n",
              "        return;\n",
              "      }\n",
              "      const div = document.createElement('div');\n",
              "      const label = document.createElement('label');\n",
              "      label.textContent = `Downloading \"${filename}\": `;\n",
              "      div.appendChild(label);\n",
              "      const progress = document.createElement('progress');\n",
              "      progress.max = size;\n",
              "      div.appendChild(progress);\n",
              "      document.body.appendChild(div);\n",
              "\n",
              "      const buffers = [];\n",
              "      let downloaded = 0;\n",
              "\n",
              "      const channel = await google.colab.kernel.comms.open(id);\n",
              "      // Send a message to notify the kernel that we're ready.\n",
              "      channel.send({})\n",
              "\n",
              "      for await (const message of channel.messages) {\n",
              "        // Send a message to notify the kernel that we're ready.\n",
              "        channel.send({})\n",
              "        if (message.buffers) {\n",
              "          for (const buffer of message.buffers) {\n",
              "            buffers.push(buffer);\n",
              "            downloaded += buffer.byteLength;\n",
              "            progress.value = downloaded;\n",
              "          }\n",
              "        }\n",
              "      }\n",
              "      const blob = new Blob(buffers, {type: 'application/binary'});\n",
              "      const a = document.createElement('a');\n",
              "      a.href = window.URL.createObjectURL(blob);\n",
              "      a.download = filename;\n",
              "      div.appendChild(a);\n",
              "      a.click();\n",
              "      div.remove();\n",
              "    }\n",
              "  "
            ]
          },
          "metadata": {}
        },
        {
          "output_type": "display_data",
          "data": {
            "text/plain": [
              "<IPython.core.display.Javascript object>"
            ],
            "application/javascript": [
              "download(\"download_115028b6-5086-495d-9b36-bb0bcd74d5bf\", \"mood_tracker_log.csv\", 7593)"
            ]
          },
          "metadata": {}
        },
        {
          "output_type": "stream",
          "name": "stdout",
          "text": [
            "🔍 Sentence-wise predictions:\n",
            "\n",
            "• There’s something about dancing alone in your room that makes you feel so alive. → joy (55.13%)\n",
            "• I felt free today. → joy (93.89%)\n",
            "\n",
            " Dominant emotion: joy\n",
            "💬 Empath says: Anchor yourself in this feeling—it’s real.\n"
          ]
        },
        {
          "output_type": "display_data",
          "data": {
            "text/plain": [
              "<IPython.core.display.Javascript object>"
            ],
            "application/javascript": [
              "\n",
              "    async function download(id, filename, size) {\n",
              "      if (!google.colab.kernel.accessAllowed) {\n",
              "        return;\n",
              "      }\n",
              "      const div = document.createElement('div');\n",
              "      const label = document.createElement('label');\n",
              "      label.textContent = `Downloading \"${filename}\": `;\n",
              "      div.appendChild(label);\n",
              "      const progress = document.createElement('progress');\n",
              "      progress.max = size;\n",
              "      div.appendChild(progress);\n",
              "      document.body.appendChild(div);\n",
              "\n",
              "      const buffers = [];\n",
              "      let downloaded = 0;\n",
              "\n",
              "      const channel = await google.colab.kernel.comms.open(id);\n",
              "      // Send a message to notify the kernel that we're ready.\n",
              "      channel.send({})\n",
              "\n",
              "      for await (const message of channel.messages) {\n",
              "        // Send a message to notify the kernel that we're ready.\n",
              "        channel.send({})\n",
              "        if (message.buffers) {\n",
              "          for (const buffer of message.buffers) {\n",
              "            buffers.push(buffer);\n",
              "            downloaded += buffer.byteLength;\n",
              "            progress.value = downloaded;\n",
              "          }\n",
              "        }\n",
              "      }\n",
              "      const blob = new Blob(buffers, {type: 'application/binary'});\n",
              "      const a = document.createElement('a');\n",
              "      a.href = window.URL.createObjectURL(blob);\n",
              "      a.download = filename;\n",
              "      div.appendChild(a);\n",
              "      a.click();\n",
              "      div.remove();\n",
              "    }\n",
              "  "
            ]
          },
          "metadata": {}
        },
        {
          "output_type": "display_data",
          "data": {
            "text/plain": [
              "<IPython.core.display.Javascript object>"
            ],
            "application/javascript": [
              "download(\"download_fe861dfd-13a0-4105-9243-3ce851c2b482\", \"mood_tracker_log.csv\", 7766)"
            ]
          },
          "metadata": {}
        },
        {
          "output_type": "stream",
          "name": "stdout",
          "text": [
            "🔍 Sentence-wise predictions:\n",
            "\n",
            "• I thought today would be ordinary, but out of nowhere, an old friend called and we talked for hours. → surprise (49.56%)\n",
            "• Totally unexpected and comforting. → joy (86.85%)\n",
            "\n",
            " Dominant emotion: surprise\n",
            "💬 Empath says: You’re writing a story even you don’t know the end of yet.\n"
          ]
        },
        {
          "output_type": "display_data",
          "data": {
            "text/plain": [
              "<IPython.core.display.Javascript object>"
            ],
            "application/javascript": [
              "\n",
              "    async function download(id, filename, size) {\n",
              "      if (!google.colab.kernel.accessAllowed) {\n",
              "        return;\n",
              "      }\n",
              "      const div = document.createElement('div');\n",
              "      const label = document.createElement('label');\n",
              "      label.textContent = `Downloading \"${filename}\": `;\n",
              "      div.appendChild(label);\n",
              "      const progress = document.createElement('progress');\n",
              "      progress.max = size;\n",
              "      div.appendChild(progress);\n",
              "      document.body.appendChild(div);\n",
              "\n",
              "      const buffers = [];\n",
              "      let downloaded = 0;\n",
              "\n",
              "      const channel = await google.colab.kernel.comms.open(id);\n",
              "      // Send a message to notify the kernel that we're ready.\n",
              "      channel.send({})\n",
              "\n",
              "      for await (const message of channel.messages) {\n",
              "        // Send a message to notify the kernel that we're ready.\n",
              "        channel.send({})\n",
              "        if (message.buffers) {\n",
              "          for (const buffer of message.buffers) {\n",
              "            buffers.push(buffer);\n",
              "            downloaded += buffer.byteLength;\n",
              "            progress.value = downloaded;\n",
              "          }\n",
              "        }\n",
              "      }\n",
              "      const blob = new Blob(buffers, {type: 'application/binary'});\n",
              "      const a = document.createElement('a');\n",
              "      a.href = window.URL.createObjectURL(blob);\n",
              "      a.download = filename;\n",
              "      div.appendChild(a);\n",
              "      a.click();\n",
              "      div.remove();\n",
              "    }\n",
              "  "
            ]
          },
          "metadata": {}
        },
        {
          "output_type": "display_data",
          "data": {
            "text/plain": [
              "<IPython.core.display.Javascript object>"
            ],
            "application/javascript": [
              "download(\"download_dcd77e9d-8541-4c5f-b8f4-14eb6f80eeea\", \"mood_tracker_log.csv\", 7996)"
            ]
          },
          "metadata": {}
        }
      ]
    },
    {
      "cell_type": "code",
      "source": [
        "import pandas as pd\n",
        "import matplotlib.pyplot as plt\n",
        "\n",
        "# grab the log we’ve been building\n",
        "log_df = pd.read_csv(\"mood_tracker_log.csv\")\n",
        "\n",
        "# make sure the timestamps behave\n",
        "log_df[\"Timestamp\"] = pd.to_datetime(log_df[\"Timestamp\"])\n",
        "log_df[\"Date\"] = log_df[\"Timestamp\"].dt.date  # or .dt.floor(\"D\") for more control\n",
        "\n",
        "# how often each emotion popped up per day\n",
        "emotion_counts = log_df.groupby([\"Date\", \"Predicted Emotion\"]).size().unstack(fill_value=0)\n",
        "\n",
        "# visualization\n",
        "plt.figure(figsize=(12,6))\n",
        "emotion_counts.plot(kind=\"line\", marker=\"o\", figsize=(14,6))\n",
        "plt.title(\"📈 Emotion Trends Over Time\")\n",
        "plt.xlabel(\"🗓️ Date\")\n",
        "plt.ylabel(\"🧠 Emotion Count\")\n",
        "plt.legend(title=\"Emotion\")\n",
        "plt.grid(True)\n",
        "plt.tight_layout()\n",
        "plt.show()\n"
      ],
      "metadata": {
        "colab": {
          "base_uri": "https://localhost:8080/",
          "height": 302
        },
        "id": "Nj4NBpbgoPRp",
        "outputId": "e4acb810-a3b5-4e80-dae7-e5a31a035346"
      },
      "execution_count": 72,
      "outputs": [
        {
          "output_type": "display_data",
          "data": {
            "text/plain": [
              "<Figure size 1200x600 with 0 Axes>"
            ]
          },
          "metadata": {}
        },
        {
          "output_type": "display_data",
          "data": {
            "text/plain": [
              "<Figure size 1400x600 with 1 Axes>"
            ],
            "image/png": "[encoded data removed]"
          },
          "metadata": {}
        }
      ]
    }
  ]
}